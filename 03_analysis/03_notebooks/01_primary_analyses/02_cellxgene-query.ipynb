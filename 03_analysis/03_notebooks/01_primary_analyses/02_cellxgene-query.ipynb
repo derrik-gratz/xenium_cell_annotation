{
 "cells": [
  {
   "cell_type": "code",
   "execution_count": 2,
   "id": "3abd47bb-22be-4e7c-a45e-44dc861481ab",
   "metadata": {},
   "outputs": [
    {
     "ename": "ModuleNotFoundError",
     "evalue": "No module named 'cellxgene_census'",
     "output_type": "error",
     "traceback": [
      "\u001b[31m---------------------------------------------------------------------------\u001b[39m",
      "\u001b[31mModuleNotFoundError\u001b[39m                       Traceback (most recent call last)",
      "\u001b[36mCell\u001b[39m\u001b[36m \u001b[39m\u001b[32mIn[2]\u001b[39m\u001b[32m, line 1\u001b[39m\n\u001b[32m----> \u001b[39m\u001b[32m1\u001b[39m \u001b[38;5;28;01mimport\u001b[39;00m\u001b[38;5;250m \u001b[39m\u001b[34;01mcellxgene_census\u001b[39;00m\n\u001b[32m      2\u001b[39m \u001b[38;5;28;01mimport\u001b[39;00m\u001b[38;5;250m \u001b[39m\u001b[34;01manndata\u001b[39;00m\n\u001b[32m      3\u001b[39m \u001b[38;5;28;01mimport\u001b[39;00m\u001b[38;5;250m \u001b[39m\u001b[34;01mpandas\u001b[39;00m\u001b[38;5;250m \u001b[39m\u001b[38;5;28;01mas\u001b[39;00m\u001b[38;5;250m \u001b[39m\u001b[34;01mpd\u001b[39;00m\n",
      "\u001b[31mModuleNotFoundError\u001b[39m: No module named 'cellxgene_census'"
     ]
    }
   ],
   "source": [
    "import cellxgene_census\n",
    "import anndata\n",
    "import pandas as pd"
   ]
  },
  {
   "cell_type": "code",
   "execution_count": null,
   "id": "81e9bbcc-db4c-4e43-9846-3a676c99712b",
   "metadata": {},
   "outputs": [],
   "source": [
    "def list_available_metadata_keys(organism=\"Homo sapiens\"):\n",
    "    census = cellxgene_census.open_soma()\n",
    "    keys = list(census[\"census_data\"][organism.lower().replace(\" \", \"_\")].obs.keys())\n",
    "    print(\"Available cell metadata keys:\")\n",
    "    for k in keys:\n",
    "        print(f\"  - {k}\")\n",
    "    census.close()\n",
    "    return keys"
   ]
  },
  {
   "cell_type": "code",
   "execution_count": null,
   "id": "a7a0e96d-1e85-4a86-96ae-56c800f22028",
   "metadata": {},
   "outputs": [],
   "source": [
    "list_available_metadata_keys(organism=\"Homo sapiens\")"
   ]
  },
  {
   "cell_type": "code",
   "execution_count": null,
   "id": "575c812f-cb55-4d5c-9be6-daa2485ab29f",
   "metadata": {},
   "outputs": [],
   "source": [
    "def show_example_values(organism=\"Homo sapiens\", key=\"cell_type\", n=10):\n",
    "    census = cellxgene_census.open_soma()\n",
    "    obs = census[\"census_data\"][organism.lower().replace(\" \", \"_\")].obs.read(column_names=[key]).concat().to_pandas()\n",
    "    print(f\"Example values for '{key}':\")\n",
    "    print(obs[key].drop_duplicates().head(n))\n",
    "    census.close()"
   ]
  },
  {
   "cell_type": "code",
   "execution_count": null,
   "id": "d3cb9dd2-eaa8-4013-9222-e0abb4610122",
   "metadata": {},
   "outputs": [],
   "source": [
    "show_example_values(organism=\"Homo sapiens\", key=\"tissue\", n=10)"
   ]
  },
  {
   "cell_type": "code",
   "execution_count": null,
   "id": "bc60f5a0-08be-4c40-9a51-780a848fcc24",
   "metadata": {},
   "outputs": [],
   "source": [
    "def query_and_load_anndata(\n",
    "    organism=\"Homo sapiens\",\n",
    "    obs_value_filter=None,\n",
    "    var_value_filter=None,\n",
    "    obs_column_names=None,\n",
    "    var_column_names=None\n",
    "):\n",
    "    census = cellxgene_census.open_soma()\n",
    "    adata = cellxgene_census.get_anndata(\n",
    "        census=census,\n",
    "        organism=organism,\n",
    "        obs_value_filter=obs_value_filter,\n",
    "        var_value_filter=var_value_filter,\n",
    "        obs_column_names=obs_column_names,\n",
    "        var_column_names=var_column_names,\n",
    "    )\n",
    "    census.close()\n",
    "    return adata"
   ]
  },
  {
   "cell_type": "code",
   "execution_count": null,
   "id": "799a37d0-30c9-47c6-8b06-4d6fa1cd9549",
   "metadata": {},
   "outputs": [],
   "source": [
    "obs_value_filter = (\n",
    "        \"cell_type == 'B cell' and tissue_general == 'lung' \"\n",
    "        \"and disease == 'COVID-19' and is_primary_data == True\"\n",
    "    )\n",
    "    obs_column_names = [\"sex\", \"cell_type\", \"tissue_general\", \"disease\", \"is_primary_data\"]\n",
    "    print(f\"Querying with filter: {obs_value_filter}\")\n",
    "    adata = query_and_load_anndata(\n",
    "        organism=\"Homo sapiens\",\n",
    "        obs_value_filter=obs_value_filter,\n",
    "        obs_column_names=obs_column_names\n",
    "    )"
   ]
  }
 ],
 "metadata": {
  "kernelspec": {
   "display_name": "Python 3 (ipykernel)",
   "language": "python",
   "name": "python3"
  },
  "language_info": {
   "codemirror_mode": {
    "name": "ipython",
    "version": 3
   },
   "file_extension": ".py",
   "mimetype": "text/x-python",
   "name": "python",
   "nbconvert_exporter": "python",
   "pygments_lexer": "ipython3",
   "version": "3.13.2"
  }
 },
 "nbformat": 4,
 "nbformat_minor": 5
}
